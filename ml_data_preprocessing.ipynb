{
  "nbformat": 4,
  "nbformat_minor": 0,
  "metadata": {
    "colab": {
      "provenance": [],
      "authorship_tag": "ABX9TyOUb1I/vb/U4Wm1KqVTGpU4",
      "include_colab_link": true
    },
    "kernelspec": {
      "name": "python3",
      "display_name": "Python 3"
    },
    "language_info": {
      "name": "python"
    }
  },
  "cells": [
    {
      "cell_type": "markdown",
      "metadata": {
        "id": "view-in-github",
        "colab_type": "text"
      },
      "source": [
        "<a href=\"https://colab.research.google.com/github/PawelJakubczyk/ml_data_preprocessing_utilities/blob/main/ml_data_preprocessing.ipynb\" target=\"_parent\"><img src=\"https://colab.research.google.com/assets/colab-badge.svg\" alt=\"Open In Colab\"/></a>"
      ]
    },
    {
      "cell_type": "markdown",
      "source": [
        "# Setup: Install Required Libraries"
      ],
      "metadata": {
        "id": "JAvKwxg5WLfH"
      }
    },
    {
      "cell_type": "code",
      "execution_count": 47,
      "metadata": {
        "colab": {
          "base_uri": "https://localhost:8080/"
        },
        "id": "7L07i7KLS_en",
        "outputId": "5fc0d9c6-b5c0-4039-d560-61746356303c"
      },
      "outputs": [
        {
          "output_type": "stream",
          "name": "stdout",
          "text": [
            "Requirement already satisfied: numpy in /usr/local/lib/python3.10/dist-packages (1.25.2)\n",
            "Requirement already satisfied: pandas in /usr/local/lib/python3.10/dist-packages (1.5.3)\n",
            "Requirement already satisfied: python-dateutil>=2.8.1 in /usr/local/lib/python3.10/dist-packages (from pandas) (2.8.2)\n",
            "Requirement already satisfied: pytz>=2020.1 in /usr/local/lib/python3.10/dist-packages (from pandas) (2023.4)\n",
            "Requirement already satisfied: numpy>=1.21.0 in /usr/local/lib/python3.10/dist-packages (from pandas) (1.25.2)\n",
            "Requirement already satisfied: six>=1.5 in /usr/local/lib/python3.10/dist-packages (from python-dateutil>=2.8.1->pandas) (1.16.0)\n",
            "Requirement already satisfied: language_tool_python in /usr/local/lib/python3.10/dist-packages (2.7.1)\n",
            "Requirement already satisfied: requests in /usr/local/lib/python3.10/dist-packages (from language_tool_python) (2.31.0)\n",
            "Requirement already satisfied: tqdm in /usr/local/lib/python3.10/dist-packages (from language_tool_python) (4.66.1)\n",
            "Requirement already satisfied: charset-normalizer<4,>=2 in /usr/local/lib/python3.10/dist-packages (from requests->language_tool_python) (3.3.2)\n",
            "Requirement already satisfied: idna<4,>=2.5 in /usr/local/lib/python3.10/dist-packages (from requests->language_tool_python) (2.10)\n",
            "Requirement already satisfied: urllib3<3,>=1.21.1 in /usr/local/lib/python3.10/dist-packages (from requests->language_tool_python) (2.0.7)\n",
            "Requirement already satisfied: certifi>=2017.4.17 in /usr/local/lib/python3.10/dist-packages (from requests->language_tool_python) (2024.2.2)\n",
            "Requirement already satisfied: textaugment in /usr/local/lib/python3.10/dist-packages (2.0.0)\n",
            "Requirement already satisfied: nltk in /usr/local/lib/python3.10/dist-packages (from textaugment) (3.8.1)\n",
            "Requirement already satisfied: gensim>=4.0 in /usr/local/lib/python3.10/dist-packages (from textaugment) (4.3.2)\n",
            "Requirement already satisfied: textblob in /usr/local/lib/python3.10/dist-packages (from textaugment) (0.17.1)\n",
            "Requirement already satisfied: numpy in /usr/local/lib/python3.10/dist-packages (from textaugment) (1.25.2)\n",
            "Requirement already satisfied: googletrans>=2 in /usr/local/lib/python3.10/dist-packages (from textaugment) (3.0.0)\n",
            "Requirement already satisfied: scipy>=1.7.0 in /usr/local/lib/python3.10/dist-packages (from gensim>=4.0->textaugment) (1.11.4)\n",
            "Requirement already satisfied: smart-open>=1.8.1 in /usr/local/lib/python3.10/dist-packages (from gensim>=4.0->textaugment) (6.4.0)\n",
            "Requirement already satisfied: httpx==0.13.3 in /usr/local/lib/python3.10/dist-packages (from googletrans>=2->textaugment) (0.13.3)\n",
            "Requirement already satisfied: certifi in /usr/local/lib/python3.10/dist-packages (from httpx==0.13.3->googletrans>=2->textaugment) (2024.2.2)\n",
            "Requirement already satisfied: hstspreload in /usr/local/lib/python3.10/dist-packages (from httpx==0.13.3->googletrans>=2->textaugment) (2024.2.1)\n",
            "Requirement already satisfied: sniffio in /usr/local/lib/python3.10/dist-packages (from httpx==0.13.3->googletrans>=2->textaugment) (1.3.0)\n",
            "Requirement already satisfied: chardet==3.* in /usr/local/lib/python3.10/dist-packages (from httpx==0.13.3->googletrans>=2->textaugment) (3.0.4)\n",
            "Requirement already satisfied: idna==2.* in /usr/local/lib/python3.10/dist-packages (from httpx==0.13.3->googletrans>=2->textaugment) (2.10)\n",
            "Requirement already satisfied: rfc3986<2,>=1.3 in /usr/local/lib/python3.10/dist-packages (from httpx==0.13.3->googletrans>=2->textaugment) (1.5.0)\n",
            "Requirement already satisfied: httpcore==0.9.* in /usr/local/lib/python3.10/dist-packages (from httpx==0.13.3->googletrans>=2->textaugment) (0.9.1)\n",
            "Requirement already satisfied: h11<0.10,>=0.8 in /usr/local/lib/python3.10/dist-packages (from httpcore==0.9.*->httpx==0.13.3->googletrans>=2->textaugment) (0.9.0)\n",
            "Requirement already satisfied: h2==3.* in /usr/local/lib/python3.10/dist-packages (from httpcore==0.9.*->httpx==0.13.3->googletrans>=2->textaugment) (3.2.0)\n",
            "Requirement already satisfied: hyperframe<6,>=5.2.0 in /usr/local/lib/python3.10/dist-packages (from h2==3.*->httpcore==0.9.*->httpx==0.13.3->googletrans>=2->textaugment) (5.2.0)\n",
            "Requirement already satisfied: hpack<4,>=3.0 in /usr/local/lib/python3.10/dist-packages (from h2==3.*->httpcore==0.9.*->httpx==0.13.3->googletrans>=2->textaugment) (3.0.0)\n",
            "Requirement already satisfied: click in /usr/local/lib/python3.10/dist-packages (from nltk->textaugment) (8.1.7)\n",
            "Requirement already satisfied: joblib in /usr/local/lib/python3.10/dist-packages (from nltk->textaugment) (1.3.2)\n",
            "Requirement already satisfied: regex>=2021.8.3 in /usr/local/lib/python3.10/dist-packages (from nltk->textaugment) (2023.12.25)\n",
            "Requirement already satisfied: tqdm in /usr/local/lib/python3.10/dist-packages (from nltk->textaugment) (4.66.1)\n"
          ]
        }
      ],
      "source": [
        "%pip install numpy\n",
        "%pip install pandas\n",
        "%pip install language_tool_python\n",
        "%pip install textaugment"
      ]
    },
    {
      "cell_type": "markdown",
      "source": [
        "# Import Libraries"
      ],
      "metadata": {
        "id": "kL9pJgOuUJ4O"
      }
    },
    {
      "cell_type": "code",
      "source": [
        "# Read manage data\n",
        "import pandas as pd\n",
        "from concurrent.futures import ProcessPoolExecutor\n",
        "\n",
        "# Data Preprocesing\n",
        "from nltk.tokenize import word_tokenize\n",
        "from nltk.stem import PorterStemmer\n",
        "from re import sub, findall\n",
        "import string\n",
        "import nltk\n",
        "import spacy\n",
        "from language_tool_python import LanguageTool\n",
        "from collections import Counter\n",
        "\n",
        "# data augmentation\n",
        "from textaugment import Wordnet\n",
        "\n",
        "# Data Analiss\n",
        "from nltk.tokenize import word_tokenize\n",
        "from nltk.probability import FreqDist"
      ],
      "metadata": {
        "id": "A7_OiMjhUKTJ"
      },
      "execution_count": 48,
      "outputs": []
    },
    {
      "cell_type": "markdown",
      "source": [
        "# Define Functions"
      ],
      "metadata": {
        "id": "FgnPaM7SUNi-"
      }
    },
    {
      "cell_type": "markdown",
      "source": [
        "## Preprocesing"
      ],
      "metadata": {
        "id": "1wT-WOlDlaE1"
      }
    },
    {
      "cell_type": "markdown",
      "source": [
        "1. **normalize_text(input_text: str) -> str**:\n",
        "   This function normalizes the input text by converting it to lowercase and removing leading/trailing whitespaces.\n",
        "\n",
        "2. **remove_punctuation(input_string: str) -> str**:\n",
        "   This function removes punctuation marks from the input string.\n",
        "\n",
        "3. **replace_tabs_enters_and_spaces(input_string:str) -> str**:\n",
        "   This function takes an input string and replaces tabs with a single space and multiple consecutive spaces with a single space.\n",
        "\n",
        "4. **remove_html_tags(input_text: str) -> str**:\n",
        "   This function removes HTML tags from the input text.\n",
        "\n",
        "5. **remove_stopwords(input_string: str, stop_words: Set[str]) -> str**:\n",
        "   This function removes stopwords from the input string. Stopwords are commonly used words (e.g., \"the\", \"is\", \"in\") that do not carry significant meaning.\n",
        "\n",
        "6. **lemmatize(text: str) -> str**:\n",
        "   This function lemmatizes the input text. Lemmatization is similar to stemming but considers the context of the word to determine its base or dictionary form.\n",
        "\n",
        "7. **stemming(text: str) -> str**:\n",
        "   This function performs stemming on the input text. Stemming reduces words to their root or base form, often by removing suffixes.\n",
        "\n",
        "    **Note:** It is recommended to avoid using lemmatization (`lemmatize`) and stemming (`stemming`) simultaneously, as both methods serve to normalize words but in different ways. Using them together may lead to excessive text processing and loss of semantic information.\n",
        "\n",
        "8. **remove_pos_tags(text: str) -> str**:\n",
        "   This function removes all words from the input text except for nouns (NN). It relies on part-of-speech tagging to identify and retain only nouns in the text.\n",
        "\n",
        "9. **correct_grammar(text: str) -> str**:\n",
        "    This function corrects grammar mistakes in the input text.\n",
        "\n",
        "10. **remove_common_words(text: str, common_threshold: int) -> str**:\n",
        "    This function removes words from the text that occur too frequently.\n",
        "\n",
        "11. **remove_rare_words(text: str, rare_threshold: int) -> str**:\n",
        "    This function removes words from the text that occur too rarely.\n",
        "\n",
        "12. **clean_empty_data(df: pd.DataFrame, columns_to_check: list) -> pd.DataFrame**:\n",
        "    Cleans the input DataFrame by removing rows with missing value or empty strings.\n",
        "\n"
      ],
      "metadata": {
        "id": "Bu0eds94WXJN"
      }
    },
    {
      "cell_type": "code",
      "source": [
        "# Prior to running the functions, required resources need to be downloaded\n",
        "nltk.download('punkt')\n",
        "nltk.download('stopwords')\n",
        "nlp = spacy.load('en_core_web_sm')\n",
        "STOP_WORDS = nlp.Defaults.stop_words\n",
        "stemmer = PorterStemmer()\n",
        "tool = LanguageTool('en-US')\n",
        "\n",
        "def normalize_text(input_text: str) -> str:\n",
        "    \"\"\"Normalizes the input text by converting it to lowercase and removing leading/trailing whitespaces.\"\"\"\n",
        "    # Convert to lowercase\n",
        "    normalized_text = input_text.lower()\n",
        "\n",
        "    # Remove leading and trailing whitespaces\n",
        "    normalized_text = normalized_text.strip()\n",
        "\n",
        "    return normalized_text\n",
        "\n",
        "def remove_punctuation(input_string: str) -> str:\n",
        "    \"\"\"Removes punctuation from the input string\"\"\"\n",
        "    return input_string.translate(str.maketrans('', '', string.punctuation))\n",
        "\n",
        "def replace_tabs_enters_and_spaces(input_string:str) -> str:\n",
        "    \"\"\"Replaces tabs with a single space and multiple spaces with a single space in the input string\"\"\"\n",
        "    replaced_tabs = sub(r'\\t', ' ', input_string)\n",
        "    replace_enters = sub(r'\\n', ' ', replaced_tabs)\n",
        "    replaced_spaces = sub(r'\\s+', ' ', replace_enters)\n",
        "    return replaced_spaces\n",
        "\n",
        "def remove_html_tags(input_text: str) -> str:\n",
        "    \"\"\"Removes HTML tags from the input text.\"\"\"\n",
        "    clean_text = sub(r'<.*?>', '', input_text)\n",
        "    return clean_text\n",
        "\n",
        "def remove_stopwords(input_string: str) -> str:\n",
        "    \"\"\"Removes stopwords from the input string\"\"\"\n",
        "    words = input_string.split()\n",
        "    filtered_words = [word for word in words if word.lower() not in STOP_WORDS]\n",
        "    return ' '.join(filtered_words)\n",
        "\n",
        "def lemmatize(input_string: str)-> str:\n",
        "    \"\"\"Lemmatizes the input text\"\"\"\n",
        "    doc = nlp(input_string)\n",
        "    sent = [token.lemma_ for token in doc if token.text not in STOP_WORDS]\n",
        "    return ' '.join(sent)\n",
        "\n",
        "def stemming(input_string: str)-> str:\n",
        "    \"\"\"Performs stemming on the input text\"\"\"\n",
        "    tokens = word_tokenize(input_string)\n",
        "    stem_words = [stemmer.stem(word) for word in tokens]\n",
        "    return ' '.join(stem_words)\n",
        "\n",
        "def remove_pos_tags(input_string: str)-> str:\n",
        "    \"\"\"Removes all words except nouns (NN) from the input text\"\"\"\n",
        "    doc = nlp(input_string)\n",
        "    sent = [token.text for token in doc if token.tag_ == 'NN']\n",
        "    return ' '.join(sent)\n",
        "\n",
        "def correct_grammar(text: str) -> str:\n",
        "    \"\"\"Corrects grammar mistakes in the input text.\"\"\"\n",
        "    corrected_text = tool.correct(text)\n",
        "    return corrected_text\n",
        "\n",
        "def remove_common_words(df: pd.DataFrame, column_name: str, common_threshold: int) -> pd.DataFrame:\n",
        "    \"\"\"Removes common words from the text in the specified DataFrame column.\"\"\"\n",
        "    words = df[column_name].str.lower().str.findall(r'\\b\\w+\\b').sum()\n",
        "    word_counts = Counter(words)\n",
        "    common_words = {word for word, count in word_counts.items() if count > common_threshold}\n",
        "    df[column_name] = df[column_name].apply(lambda text: ' '.join(word for word in text.split() if word.lower() not in common_words))\n",
        "    return df\n",
        "\n",
        "def remove_rare_words(df: pd.DataFrame, column_name: str, rare_threshold: int) -> pd.DataFrame:\n",
        "    \"\"\"Removes rare words from the text in the specified DataFrame column.\"\"\"\n",
        "    words = df[column_name].str.lower().str.findall(r'\\b\\w+\\b').sum()\n",
        "    word_counts = Counter(words)\n",
        "    rare_words = {word for word, count in word_counts.items() if count <= rare_threshold}\n",
        "    df[column_name] = df[column_name].apply(lambda text: ' '.join(word for word in text.split() if word.lower() not in rare_words))\n",
        "    return df\n",
        "\n",
        "def clean_empty_data(df: pd.DataFrame, columns_to_check: list) -> pd.DataFrame:\n",
        "    \"\"\"Cleans the input DataFrame by removing rows with incorrect or invalid values.\"\"\"\n",
        "    # Make a copy to avoid modifying the original DataFrame\n",
        "    cleaned_df = df.copy()\n",
        "\n",
        "    for column in columns_to_check:\n",
        "        cleaned_df = cleaned_df[cleaned_df[column].notna()]\n",
        "        cleaned_df = cleaned_df[cleaned_df[column] != \"\"]\n",
        "\n",
        "    return cleaned_df"
      ],
      "metadata": {
        "id": "axJjRK-0ULN6",
        "colab": {
          "base_uri": "https://localhost:8080/"
        },
        "outputId": "b4b3dfb0-c0d9-45c2-e401-7a1b7fe5505e"
      },
      "execution_count": 49,
      "outputs": [
        {
          "output_type": "stream",
          "name": "stderr",
          "text": [
            "[nltk_data] Downloading package punkt to /root/nltk_data...\n",
            "[nltk_data]   Package punkt is already up-to-date!\n",
            "[nltk_data] Downloading package stopwords to /root/nltk_data...\n",
            "[nltk_data]   Package stopwords is already up-to-date!\n"
          ]
        }
      ]
    },
    {
      "cell_type": "markdown",
      "source": [
        "## Augumentation"
      ],
      "metadata": {
        "id": "vGRuM8_7ldKK"
      }
    },
    {
      "cell_type": "markdown",
      "source": [
        "1. **augment_data(data, topic_col, text_col) -> DataFrame**:\n",
        "Data augmentation is a technique used to artificially increase the size of a dataset by creating modified versions of existing data samples. The `augment_data` function implements this technique by generating additional samples for underrepresented topics in the input data."
      ],
      "metadata": {
        "id": "i8wlnR3hlrAd"
      }
    },
    {
      "cell_type": "code",
      "source": [
        "nltk.download('averaged_perceptron_tagger')\n",
        "nltk.download('wordnet')\n",
        "\n",
        "def augment_data(data: pd.DataFrame, topic_col: str, text_col: str) -> pd.DataFrame:\n",
        "    \"\"\"Augments the input data by generating additional samples for underrepresented topics.\"\"\"\n",
        "\n",
        "    topic_counts = data[topic_col].value_counts()  # get the topic counts\n",
        "    max_count = topic_counts.max()  # max items for main topic\n",
        "\n",
        "    augmented_data = []\n",
        "    wordnet_aug = Wordnet(v=True)  # use Wordnet for synonyms\n",
        "\n",
        "    # Loop through each topic to create additional data\n",
        "    for topic, count in topic_counts.items():\n",
        "        # Get data corresponding to the current topic\n",
        "        topic_data = data[data[topic_col] == topic]\n",
        "\n",
        "        # Calculate the number of additional samples needed for this topic\n",
        "        samples_needed = max_count - count\n",
        "\n",
        "        # Perform augmentation\n",
        "        augmented_sentences = []\n",
        "        while len(augmented_sentences) < samples_needed:\n",
        "            # Augment a randomly selected text from the current topic\n",
        "            augmented_sentence = wordnet_aug.augment(topic_data[text_col].sample().iloc[0])\n",
        "            augmented_sentences.append(augmented_sentence)\n",
        "\n",
        "        # Create a new DataFrame with merged newly created samples and topics\n",
        "        augmented_df = pd.DataFrame({topic_col: [topic] * len(augmented_sentences),\n",
        "                                      text_col: augmented_sentences})\n",
        "\n",
        "        # Add the augmented samples to the list\n",
        "        augmented_data.append(augmented_df)\n",
        "\n",
        "    # Merge the newly created DataFrame with samples and the original data\n",
        "    augmented_data = pd.concat([data] + augmented_data, ignore_index=True)\n",
        "\n",
        "    # Return the augmented data\n",
        "    return augmented_data\n",
        "\n",
        "\n",
        "def augment_data(data: pd.DataFrame, topic_col: str, text_col: str) -> pd.DataFrame:\n",
        "    \"\"\"Augments the input data by generating additional samples for underrepresented topics.\"\"\"\n",
        "\n",
        "    topic_counts = data[topic_col].value_counts()  # get the topic counts\n",
        "    max_count = topic_counts.max()  # max items for main topic\n",
        "\n",
        "    augmented_data = []\n",
        "    wordnet_aug = Wordnet(v=True)  # use Wordnet for synonyms\n",
        "\n",
        "    # Loop through each topic to create additional data\n",
        "    for topic, count in topic_counts.items():\n",
        "        # Get data corresponding to the current topic\n",
        "        topic_data = data[data[topic_col] == topic]\n",
        "\n",
        "        # Calculate the number of additional samples needed for this topic\n",
        "        samples_needed = max_count - count\n",
        "\n",
        "        # Perform augmentation\n",
        "        augmented_sentences = []\n",
        "        while len(augmented_sentences) < samples_needed:\n",
        "            # Augment a randomly selected text from the current topic\n",
        "            augmented_sentence = wordnet_aug.augment(topic_data[text_col].sample().iloc[0])\n",
        "            augmented_sentences.append(augmented_sentence)\n",
        "\n",
        "        # Create a new DataFrame with merged newly created samples and topics\n",
        "        augmented_df = pd.DataFrame({topic_col: [topic] * len(augmented_sentences),\n",
        "                                      text_col: augmented_sentences})\n",
        "\n",
        "        # Add the augmented samples to the list\n",
        "        augmented_data.append(augmented_df)\n",
        "\n",
        "    # Merge the newly created DataFrame with samples and the original data\n",
        "    augmented_data = pd.concat([data] + augmented_data, ignore_index=True)\n",
        "\n",
        "    # Return the augmented data\n",
        "    return augmented_data"
      ],
      "metadata": {
        "id": "K1FQiODYlfwp",
        "outputId": "1dc63c3c-3af7-48e0-9baf-066eca3df9a7",
        "colab": {
          "base_uri": "https://localhost:8080/"
        }
      },
      "execution_count": 50,
      "outputs": [
        {
          "output_type": "stream",
          "name": "stderr",
          "text": [
            "[nltk_data] Downloading package averaged_perceptron_tagger to\n",
            "[nltk_data]     /root/nltk_data...\n",
            "[nltk_data]   Unzipping taggers/averaged_perceptron_tagger.zip.\n",
            "[nltk_data] Downloading package wordnet to /root/nltk_data...\n"
          ]
        }
      ]
    },
    {
      "cell_type": "markdown",
      "source": [
        "## Analysis"
      ],
      "metadata": {
        "id": "KQqHo3uKlR4T"
      }
    },
    {
      "cell_type": "markdown",
      "source": [
        "1. **analyze_word_frequency_in_df_column(df: pd.DataFrame, column_name: str, top_num: int, mode: str = 'most_common') -> dict**:\n",
        "   Analyzes the word frequency in the specified DataFrame column and returns either the most common or least common words based on the specified mode.\n",
        "\n",
        "2. **check_missing_values(df: pd.DataFrame, columns: list) -> None**:\n",
        "   Checks for missing values in the specified columns of the DataFrame."
      ],
      "metadata": {
        "id": "gLNn_TAhlt_h"
      }
    },
    {
      "cell_type": "code",
      "source": [
        "def analyze_word_frequency_in_df_column(df: pd.DataFrame, column_name: str, top_num: int, mode: str = 'most_common') -> dict:\n",
        "    all_text = ' '.join(df[column_name].astype(str).tolist())\n",
        "    words = word_tokenize(all_text)\n",
        "    fdist = FreqDist(words)\n",
        "\n",
        "    if mode == 'most_common':\n",
        "        most_common_words = dict(fdist.most_common(abs(top_num)))\n",
        "        return most_common_words\n",
        "    elif mode == 'least_common':\n",
        "        least_common_words = dict(fdist.most_common()[-abs(top_num):][::-1])\n",
        "        return least_common_words\n",
        "    else:\n",
        "        raise ValueError(\"Invalid mode. Please choose 'most_common' or 'least_common'.\")\n",
        "\n",
        "def check_missing_values(df: pd.DataFrame, columns: list)-> None:\n",
        "    \"\"\"Check missing values in the DataFrame for the specified columns.\"\"\"\n",
        "\n",
        "    missing_values = df[columns].replace(\"\", pd.NA).isnull().sum()\n",
        "    print(missing_values)"
      ],
      "metadata": {
        "id": "uotirB4mjGF9"
      },
      "execution_count": 51,
      "outputs": []
    },
    {
      "cell_type": "markdown",
      "source": [
        "## Tokenize"
      ],
      "metadata": {
        "id": "nKc2wooRmPJ1"
      }
    },
    {
      "cell_type": "markdown",
      "source": [
        "1. **tokenize_text(input_string: str) -> list**:\n",
        "   Tokenizes the input string into words."
      ],
      "metadata": {
        "id": "HNVOIbEcmOv9"
      }
    },
    {
      "cell_type": "code",
      "source": [
        "def tokenize_text(input_string):\n",
        "    # Tokenize the text into words\n",
        "    tokens = word_tokenize(input_string)\n",
        "\n",
        "    return tokens"
      ],
      "metadata": {
        "id": "-2mwfl62mOhH"
      },
      "execution_count": 52,
      "outputs": []
    },
    {
      "cell_type": "markdown",
      "source": [
        "# Preprocesing usage examples"
      ],
      "metadata": {
        "id": "KlU5AaK4Yi-v"
      }
    },
    {
      "cell_type": "markdown",
      "source": [
        "## 1. **normalize_text(input_text: str) -> str**:\n",
        "   This function normalizes the input text by converting it to lowercase and removing leading/trailing whitespaces."
      ],
      "metadata": {
        "id": "oIhUee4HXDCw"
      }
    },
    {
      "cell_type": "code",
      "source": [
        "# Example 1: Simple text\n",
        "text1 = \"   This is a Sample Text   \"\n",
        "normalized_text1 = normalize_text(text1)\n",
        "print(\"Original Text 1:\", text1)\n",
        "print(\"Normalized Text 1:\", normalized_text1)\n",
        "\n",
        "# Example 2: Text with uppercase letters\n",
        "text2 = \"HELLO WORLD\"\n",
        "normalized_text2 = normalize_text(text2)\n",
        "print(\"Original Text 2:\", text2)\n",
        "print(\"Normalized Text 2:\", normalized_text2)\n",
        "\n",
        "# Example 3: Text with multiple white spaces\n",
        "text3 = \"   This     is     another    example    \"\n",
        "normalized_text3 = normalize_text(text3)\n",
        "print(\"Original Text 3:\", text3)\n",
        "print(\"Normalized Text 3:\", normalized_text3)"
      ],
      "metadata": {
        "colab": {
          "base_uri": "https://localhost:8080/"
        },
        "id": "DuOoZuPWXDTS",
        "outputId": "870a543b-fe6c-44b4-ace7-80c4108232e4"
      },
      "execution_count": 53,
      "outputs": [
        {
          "output_type": "stream",
          "name": "stdout",
          "text": [
            "Original Text 1:    This is a Sample Text   \n",
            "Normalized Text 1: this is a sample text\n",
            "Original Text 2: HELLO WORLD\n",
            "Normalized Text 2: hello world\n",
            "Original Text 3:    This     is     another    example    \n",
            "Normalized Text 3: this     is     another    example\n"
          ]
        }
      ]
    },
    {
      "cell_type": "markdown",
      "source": [
        "## 2. **remove_punctuation(input_string: str) -> str**:\n",
        "   This function removes punctuation marks from the input string."
      ],
      "metadata": {
        "id": "dZC7ZUxmYeES"
      }
    },
    {
      "cell_type": "code",
      "source": [
        "# Example 1: Text with punctuation\n",
        "text1 = \"Hello, World!\"\n",
        "cleaned_text1 = remove_punctuation(text1)\n",
        "print(\"Original Text 1:\", text1)\n",
        "print(\"Cleaned Text 1:\", cleaned_text1)\n",
        "\n",
        "# Example 2: Text with special characters\n",
        "text2 = \"This is a #test with @special characters!\"\n",
        "cleaned_text2 = remove_punctuation(text2)\n",
        "print(\"Original Text 2:\", text2)\n",
        "print(\"Cleaned Text 2:\", cleaned_text2)\n",
        "\n",
        "# Example 3: Mixed text with punctuation and numbers\n",
        "text3 = \"Don't worry, it's just 9:00 AM!\"\n",
        "cleaned_text3 = remove_punctuation(text3)\n",
        "print(\"Original Text 3:\", text3)\n",
        "print(\"Cleaned Text 3:\", cleaned_text3)"
      ],
      "metadata": {
        "colab": {
          "base_uri": "https://localhost:8080/"
        },
        "id": "RgeAksMTYeZF",
        "outputId": "083a2f02-bcf4-497e-e0b9-b5f5b7917456"
      },
      "execution_count": 54,
      "outputs": [
        {
          "output_type": "stream",
          "name": "stdout",
          "text": [
            "Original Text 1: Hello, World!\n",
            "Cleaned Text 1: Hello World\n",
            "Original Text 2: This is a #test with @special characters!\n",
            "Cleaned Text 2: This is a test with special characters\n",
            "Original Text 3: Don't worry, it's just 9:00 AM!\n",
            "Cleaned Text 3: Dont worry its just 900 AM\n"
          ]
        }
      ]
    },
    {
      "cell_type": "markdown",
      "source": [
        "## 3. **replace_tabs_enters_and_spaces(input_string:str) -> str**:\n",
        "   This function takes an input string and replaces tabs with a single space and multiple consecutive spaces with a single space."
      ],
      "metadata": {
        "id": "YTFUEDJJZpH5"
      }
    },
    {
      "cell_type": "code",
      "source": [
        "input_text = \"This\\tis\\na\\tsample\\ttext\\nwith\\ttabs\\nand\\nnew\\tlines.\"\n",
        "print(\"Original Text:\")\n",
        "print(input_text)\n",
        "\n",
        "processed_text = replace_tabs_enters_and_spaces(input_text)\n",
        "print(\"\\nProcessed Text:\")\n",
        "print(processed_text)"
      ],
      "metadata": {
        "colab": {
          "base_uri": "https://localhost:8080/"
        },
        "id": "YV37-NlQZB3C",
        "outputId": "9f73a4c4-b7f4-4d44-ef9b-070dada7d925"
      },
      "execution_count": 55,
      "outputs": [
        {
          "output_type": "stream",
          "name": "stdout",
          "text": [
            "Original Text:\n",
            "This\tis\n",
            "a\tsample\ttext\n",
            "with\ttabs\n",
            "and\n",
            "new\tlines.\n",
            "\n",
            "Processed Text:\n",
            "This is a sample text with tabs and new lines.\n"
          ]
        }
      ]
    },
    {
      "cell_type": "markdown",
      "source": [
        "## 4. **remove_html_tags(input_text: str) -> str**:\n",
        "   This function removes HTML tags from the input text.\n"
      ],
      "metadata": {
        "id": "ycV7DXKJZOIQ"
      }
    },
    {
      "cell_type": "code",
      "source": [
        "html_text = \"<p>This is <b>HTML</b> <i>text</i> with <a href='#'>links</a>.</p>\"\n",
        "cleaned_text = remove_html_tags(html_text)\n",
        "print(\"Original HTML Text:\")\n",
        "print(html_text)\n",
        "print(\"\\nCleaned Text:\")\n",
        "print(cleaned_text)"
      ],
      "metadata": {
        "colab": {
          "base_uri": "https://localhost:8080/"
        },
        "id": "z3xu1k-rZ9yX",
        "outputId": "8b9f2970-2817-4dec-aae0-6d1125266011"
      },
      "execution_count": 56,
      "outputs": [
        {
          "output_type": "stream",
          "name": "stdout",
          "text": [
            "Original HTML Text:\n",
            "<p>This is <b>HTML</b> <i>text</i> with <a href='#'>links</a>.</p>\n",
            "\n",
            "Cleaned Text:\n",
            "This is HTML text with links.\n"
          ]
        }
      ]
    },
    {
      "cell_type": "markdown",
      "source": [
        "## 5. **remove_stopwords(input_string: str) -> str**:\n",
        "   This function removes stopwords from the input string. Stopwords are commonly used words (e.g., \"the\", \"is\", \"in\") that do not carry significant meaning."
      ],
      "metadata": {
        "id": "3V_yx4AZZKS8"
      }
    },
    {
      "cell_type": "code",
      "source": [
        "# Example 1: Simple text with stopwords\n",
        "text1 = \"This is a sample text with some stopwords like the, is, and in\"\n",
        "filtered_text1 = remove_stopwords(text1)\n",
        "print(\"Original Text 1:\", text1)\n",
        "print(\"Filtered Text 1:\", filtered_text1)\n",
        "\n",
        "# Example 2: Text with uppercase stopwords\n",
        "text2 = \"This Text Contains Some UPPERCASE Stopwords LIKE The, IS, And IN\"\n",
        "filtered_text2 = remove_stopwords(text2)\n",
        "print(\"Original Text 2:\", text2)\n",
        "print(\"Filtered Text 2:\", filtered_text2)\n",
        "\n",
        "# Example 3: Text with punctuation and stopwords\n",
        "text3 = \"This, is, a sample; text with 'punctuation' and stopwords: the, is, and, in\"\n",
        "filtered_text3 = remove_stopwords(text3)\n",
        "print(\"Original Text 3:\", text3)\n",
        "print(\"Filtered Text 3:\", filtered_text3)"
      ],
      "metadata": {
        "colab": {
          "base_uri": "https://localhost:8080/"
        },
        "id": "c7DkOxuUZ-MS",
        "outputId": "fda23b1f-9255-467c-8281-6fbba44cfbcd"
      },
      "execution_count": 57,
      "outputs": [
        {
          "output_type": "stream",
          "name": "stdout",
          "text": [
            "Original Text 1: This is a sample text with some stopwords like the, is, and in\n",
            "Filtered Text 1: sample text stopwords like the, is,\n",
            "Original Text 2: This Text Contains Some UPPERCASE Stopwords LIKE The, IS, And IN\n",
            "Filtered Text 2: Text Contains UPPERCASE Stopwords LIKE The, IS,\n",
            "Original Text 3: This, is, a sample; text with 'punctuation' and stopwords: the, is, and, in\n",
            "Filtered Text 3: This, is, sample; text 'punctuation' stopwords: the, is, and,\n"
          ]
        }
      ]
    },
    {
      "cell_type": "markdown",
      "source": [
        "## 6. **lemmatize(text: str) -> str**:\n",
        "   This function lemmatizes the input text. Lemmatization is similar to stemming but considers the context of the word to determine its base or dictionary form."
      ],
      "metadata": {
        "id": "veuF_T7PZODs"
      }
    },
    {
      "cell_type": "code",
      "source": [
        "# Example 1: Simple sentence\n",
        "sentence1 = \"The cats are playing in the garden\"\n",
        "lemmatized_sentence1 = lemmatize(sentence1)\n",
        "print(\"Original Sentence 1:\", sentence1)\n",
        "print(\"Lemmatized Sentence 1:\", lemmatized_sentence1)\n",
        "\n",
        "# Example 2: Text with different word forms\n",
        "sentence2 = \"She was running through the fields\"\n",
        "lemmatized_sentence2 = lemmatize(sentence2)\n",
        "print(\"Original Sentence 2:\", sentence2)\n",
        "print(\"Lemmatized Sentence 2:\", lemmatized_sentence2)\n",
        "\n",
        "# Example 3: Text with stopwords\n",
        "sentence3 = \"The quick brown fox jumps over the lazy dog\"\n",
        "lemmatized_sentence3 = lemmatize(sentence3)\n",
        "print(\"Original Sentence 3:\", sentence3)\n",
        "print(\"Lemmatized Sentence 3:\", lemmatized_sentence3)\n"
      ],
      "metadata": {
        "colab": {
          "base_uri": "https://localhost:8080/"
        },
        "id": "O8Iuwg5qZ_RY",
        "outputId": "106221bf-a6e2-49b3-836e-004248fd0d20"
      },
      "execution_count": 58,
      "outputs": [
        {
          "output_type": "stream",
          "name": "stdout",
          "text": [
            "Original Sentence 1: The cats are playing in the garden\n",
            "Lemmatized Sentence 1: the cat play garden\n",
            "Original Sentence 2: She was running through the fields\n",
            "Lemmatized Sentence 2: she run field\n",
            "Original Sentence 3: The quick brown fox jumps over the lazy dog\n",
            "Lemmatized Sentence 3: the quick brown fox jump lazy dog\n"
          ]
        }
      ]
    },
    {
      "cell_type": "markdown",
      "source": [
        "## 8. **stemming(text: str) -> str**:\n",
        "   This function performs stemming on the input text. Stemming reduces words to their root or base form, often by removing suffixes."
      ],
      "metadata": {
        "id": "7xOXmfarZOAn"
      }
    },
    {
      "cell_type": "code",
      "source": [
        "# Example 1: Simple text\n",
        "text1 = \"I love running in the park\"\n",
        "stemmed_text1 = stemming(text1)\n",
        "print(\"Original Text 1:\", text1)\n",
        "print(\"Stemmed Text 1:\", stemmed_text1)\n",
        "\n",
        "# Example 2: Text with past tense verbs\n",
        "text2 = \"She danced gracefully on the stage\"\n",
        "stemmed_text2 = stemming(text2)\n",
        "print(\"Original Text 2:\", text2)\n",
        "print(\"Stemmed Text 2:\", stemmed_text2)\n",
        "\n",
        "# Example 3: Text with plural nouns\n",
        "text3 = \"There are many cats in the neighborhood\"\n",
        "stemmed_text3 = stemming(text3)\n",
        "print(\"Original Text 3:\", text3)\n",
        "print(\"Stemmed Text 3:\", stemmed_text3)"
      ],
      "metadata": {
        "colab": {
          "base_uri": "https://localhost:8080/"
        },
        "id": "tWtmQ026aADl",
        "outputId": "003e25d8-bbdf-4805-e080-6cd2534a8fce"
      },
      "execution_count": 59,
      "outputs": [
        {
          "output_type": "stream",
          "name": "stdout",
          "text": [
            "Original Text 1: I love running in the park\n",
            "Stemmed Text 1: i love run in the park\n",
            "Original Text 2: She danced gracefully on the stage\n",
            "Stemmed Text 2: she danc grace on the stage\n",
            "Original Text 3: There are many cats in the neighborhood\n",
            "Stemmed Text 3: there are mani cat in the neighborhood\n"
          ]
        }
      ]
    },
    {
      "cell_type": "markdown",
      "source": [
        "### **Note:** It is recommended to avoid using lemmatization (`lemmatize`) and stemming (`stemming`) simultaneously, as both methods serve to normalize words but in different ways. Using them together may lead to excessive text processing and loss of semantic information."
      ],
      "metadata": {
        "id": "t67Y96dzcc-b"
      }
    },
    {
      "cell_type": "markdown",
      "source": [
        "## 9. **remove_pos_tags(text: str) -> str**:\n",
        "   This function removes all words from the input text except for nouns (NN). It relies on part-of-speech tagging to identify and retain only nouns in the text.\n"
      ],
      "metadata": {
        "id": "SpPKCfHzZN-E"
      }
    },
    {
      "cell_type": "code",
      "source": [
        "# Example 1: Simple sentence with different parts of speech\n",
        "sentence1 = \"The cat is sitting on the mat\"\n",
        "processed_sentence1 = remove_pos_tags(sentence1)\n",
        "print(\"Original Sentence 1:\", sentence1)\n",
        "print(\"Processed Sentence 1:\", processed_sentence1)\n",
        "\n",
        "# Example 2: More complex sentence with various parts of speech\n",
        "sentence2 = \"She walks her dog in the park every morning\"\n",
        "processed_sentence2 = remove_pos_tags(sentence2)\n",
        "print(\"Original Sentence 2:\", sentence2)\n",
        "print(\"Processed Sentence 2:\", processed_sentence2)\n",
        "\n",
        "# Example 3: Sentence with additional punctuation and special characters\n",
        "sentence3 = \"I bought a new car, but it's too expensive!\"\n",
        "processed_sentence3 = remove_pos_tags(sentence3)\n",
        "print(\"Original Sentence 3:\", sentence3)\n",
        "print(\"Processed Sentence 3:\", processed_sentence3)"
      ],
      "metadata": {
        "colab": {
          "base_uri": "https://localhost:8080/"
        },
        "id": "BlBcaWJhaAdO",
        "outputId": "e974fc99-36ba-4d1b-b275-3573ab49aa80"
      },
      "execution_count": 60,
      "outputs": [
        {
          "output_type": "stream",
          "name": "stdout",
          "text": [
            "Original Sentence 1: The cat is sitting on the mat\n",
            "Processed Sentence 1: cat mat\n",
            "Original Sentence 2: She walks her dog in the park every morning\n",
            "Processed Sentence 2: dog park morning\n",
            "Original Sentence 3: I bought a new car, but it's too expensive!\n",
            "Processed Sentence 3: car\n"
          ]
        }
      ]
    },
    {
      "cell_type": "markdown",
      "source": [
        "## 10. **correct_grammar(text: str) -> str**:\n",
        "  This function corrects grammar mistakes in the input text."
      ],
      "metadata": {
        "id": "k7aDoaPaZNyM"
      }
    },
    {
      "cell_type": "code",
      "source": [
        "# Example 1: Correcting a sentence with a grammar mistake\n",
        "text1 = \"He hav a good day.\"\n",
        "corrected_text1 = correct_grammar(text1)\n",
        "print(\"Original Text 1:\", text1)\n",
        "print(\"Corrected Text 1:\", corrected_text1)\n",
        "\n",
        "# Example 2: Correcting a paragraph with multiple grammar mistakes\n",
        "text2 = \"She walk to the store and buy some apple. Then, she goes home.\"\n",
        "corrected_text2 = correct_grammar(text2)\n",
        "print(\"Original Text 2:\", text2)\n",
        "print(\"Corrected Text 2:\", corrected_text2)"
      ],
      "metadata": {
        "colab": {
          "base_uri": "https://localhost:8080/"
        },
        "id": "6uksCulfZaka",
        "outputId": "5e0e3f9c-d8c9-4f84-f19f-7fbdd7da53ee"
      },
      "execution_count": 61,
      "outputs": [
        {
          "output_type": "stream",
          "name": "stdout",
          "text": [
            "Original Text 1: He hav a good day.\n",
            "Corrected Text 1: He had a good day.\n",
            "Original Text 2: She walk to the store and buy some apple. Then, she goes home.\n",
            "Corrected Text 2: She walks to the store and buy some apple. Then, she goes home.\n"
          ]
        }
      ]
    },
    {
      "cell_type": "markdown",
      "source": [
        "## 11. **remove_common_words(text: str, common_threshold: int) -> str**:\n",
        "  This function removes words from the text that occur too frequently."
      ],
      "metadata": {
        "id": "7YDbt3ABZbls"
      }
    },
    {
      "cell_type": "code",
      "source": [
        "# Sample DataFrame\n",
        "data = {\n",
        "    'Text': [\"the quick brown fox jumps over the lazy dog\",\n",
        "             \"this is a simple example text with repeated words words words\",\n",
        "             \"apple banana apple banana apple banana cherry cherry cherry cherry\",\n",
        "             \"python is a popular programming language\",\n",
        "             \"data science is an interdisciplinary field\",\n",
        "             \"machine learning algorithms can analyze large datasets\",\n",
        "             \"pandas is a Python library for data manipulation\",\n",
        "             \"numpy provides support for numerical computations\",\n",
        "             \"matplotlib is a plotting library for Python\",\n",
        "             \"scikit-learn offers machine learning tools in Python\"]\n",
        "}\n",
        "\n",
        "df = pd.DataFrame(data)\n",
        "\n",
        "print(analyze_word_frequency_in_df_column(df, 'Text', 20))"
      ],
      "metadata": {
        "colab": {
          "base_uri": "https://localhost:8080/"
        },
        "id": "v7JlnXy6aB5r",
        "outputId": "e7918c8e-7f88-47c1-9100-46eed32dcdbe"
      },
      "execution_count": 62,
      "outputs": [
        {
          "output_type": "stream",
          "name": "stdout",
          "text": [
            "{'is': 5, 'a': 4, 'cherry': 4, 'words': 3, 'apple': 3, 'banana': 3, 'Python': 3, 'for': 3, 'the': 2, 'data': 2, 'machine': 2, 'learning': 2, 'library': 2, 'quick': 1, 'brown': 1, 'fox': 1, 'jumps': 1, 'over': 1, 'lazy': 1, 'dog': 1}\n"
          ]
        }
      ]
    },
    {
      "cell_type": "code",
      "source": [
        "print(\"Original DataFrame:\")\n",
        "print(df)\n",
        "\n",
        "# Applying remove_common_words function\n",
        "cleaned_df = remove_common_words(df, 'Text', 4)\n",
        "\n",
        "print(\"\\nDataFrame after removing common words:\")\n",
        "print(cleaned_df)\n"
      ],
      "metadata": {
        "id": "aDMNi4R2iqgA",
        "outputId": "62598265-5760-434a-dd57-28195cfbe770",
        "colab": {
          "base_uri": "https://localhost:8080/"
        }
      },
      "execution_count": 63,
      "outputs": [
        {
          "output_type": "stream",
          "name": "stdout",
          "text": [
            "Original DataFrame:\n",
            "                                                Text\n",
            "0        the quick brown fox jumps over the lazy dog\n",
            "1  this is a simple example text with repeated wo...\n",
            "2  apple banana apple banana apple banana cherry ...\n",
            "3           python is a popular programming language\n",
            "4         data science is an interdisciplinary field\n",
            "5  machine learning algorithms can analyze large ...\n",
            "6   pandas is a Python library for data manipulation\n",
            "7  numpy provides support for numerical computations\n",
            "8        matplotlib is a plotting library for Python\n",
            "9  scikit-learn offers machine learning tools in ...\n",
            "\n",
            "DataFrame after removing common words:\n",
            "                                                Text\n",
            "0        the quick brown fox jumps over the lazy dog\n",
            "1  this a simple example text with repeated words...\n",
            "2  apple banana apple banana apple banana cherry ...\n",
            "3              python a popular programming language\n",
            "4            data science an interdisciplinary field\n",
            "5  machine learning algorithms can analyze large ...\n",
            "6      pandas a Python library for data manipulation\n",
            "7  numpy provides support for numerical computations\n",
            "8           matplotlib a plotting library for Python\n",
            "9  scikit-learn offers machine learning tools in ...\n"
          ]
        }
      ]
    },
    {
      "cell_type": "markdown",
      "source": [
        "## 12. **remove_rare_words(text: str, rare_threshold: int) -> str**:\n",
        "  This function removes words from the text that occur too rarely."
      ],
      "metadata": {
        "id": "Dc6FdiR3Zbfq"
      }
    },
    {
      "cell_type": "code",
      "source": [
        "data = {\n",
        "    'Text': [\"the quick brown fox jumps over the lazy dog\",\n",
        "             \"this is a simple example text with repeated words words words\",\n",
        "             \"apple banana apple banana apple banana cherry cherry cherry cherry\",\n",
        "             \"python is a popular programming language\",\n",
        "             \"data science is an interdisciplinary field\",\n",
        "             \"machine learning algorithms can analyze large datasets\",\n",
        "             \"pandas is a Python library for data manipulation\",\n",
        "             \"numpy provides support for numerical computations\",\n",
        "             \"matplotlib is a plotting library for Python\",\n",
        "             \"scikit-learn offers machine learning tools in Python\"]\n",
        "}\n",
        "\n",
        "df = pd.DataFrame(data)\n",
        "\n",
        "print(analyze_word_frequency_in_df_column(df, 'Text', 30, mode=\"least_common\"))"
      ],
      "metadata": {
        "colab": {
          "base_uri": "https://localhost:8080/"
        },
        "id": "tb-Re2_-aCRu",
        "outputId": "b6f08fed-ceb7-4079-c28f-c3c8f316e3ac"
      },
      "execution_count": 64,
      "outputs": [
        {
          "output_type": "stream",
          "name": "stdout",
          "text": [
            "{'in': 1, 'tools': 1, 'offers': 1, 'scikit-learn': 1, 'plotting': 1, 'matplotlib': 1, 'computations': 1, 'numerical': 1, 'support': 1, 'provides': 1, 'numpy': 1, 'manipulation': 1, 'pandas': 1, 'datasets': 1, 'large': 1, 'analyze': 1, 'can': 1, 'algorithms': 1, 'field': 1, 'interdisciplinary': 1, 'an': 1, 'science': 1, 'language': 1, 'programming': 1, 'popular': 1, 'python': 1, 'repeated': 1, 'with': 1, 'text': 1, 'example': 1}\n"
          ]
        }
      ]
    },
    {
      "cell_type": "code",
      "source": [
        "print(\"Original DataFrame:\")\n",
        "print(df)\n",
        "\n",
        "cleaned_df = remove_rare_words(df, 'Text', 1)\n",
        "\n",
        "print(\"\\nDataFrame after removing rare words:\")\n",
        "print(cleaned_df)"
      ],
      "metadata": {
        "id": "xRWeu6oBkKJE",
        "outputId": "5b5fa079-2325-449a-a6ed-3087f2df50c2",
        "colab": {
          "base_uri": "https://localhost:8080/"
        }
      },
      "execution_count": 65,
      "outputs": [
        {
          "output_type": "stream",
          "name": "stdout",
          "text": [
            "Original DataFrame:\n",
            "                                                Text\n",
            "0        the quick brown fox jumps over the lazy dog\n",
            "1  this is a simple example text with repeated wo...\n",
            "2  apple banana apple banana apple banana cherry ...\n",
            "3           python is a popular programming language\n",
            "4         data science is an interdisciplinary field\n",
            "5  machine learning algorithms can analyze large ...\n",
            "6   pandas is a Python library for data manipulation\n",
            "7  numpy provides support for numerical computations\n",
            "8        matplotlib is a plotting library for Python\n",
            "9  scikit-learn offers machine learning tools in ...\n",
            "\n",
            "DataFrame after removing rare words:\n",
            "                                                Text\n",
            "0                                            the the\n",
            "1                             is a words words words\n",
            "2  apple banana apple banana apple banana cherry ...\n",
            "3                                        python is a\n",
            "4                                            data is\n",
            "5                                   machine learning\n",
            "6                       is a Python library for data\n",
            "7                                                for\n",
            "8                            is a library for Python\n",
            "9               scikit-learn machine learning Python\n"
          ]
        }
      ]
    },
    {
      "cell_type": "markdown",
      "source": [
        "## 13. **clean_empty_data(df: pd.DataFrame, columns_to_check: list) -> pd.DataFrame**:\n",
        "  Cleans the input DataFrame by removing rows with missing value or empty strings."
      ],
      "metadata": {
        "id": "JCuwVBBeZbda"
      }
    },
    {
      "cell_type": "code",
      "source": [
        "# Create a larger sample DataFrame with missing and empty values\n",
        "data = {\n",
        "    'A': [1, 2, None, 4, 5, 6, 7, 8, 9, 10],\n",
        "    'B': ['foo', '', 'bar', None, 'baz', 'qux', '', 'quux', None, 'corge'],\n",
        "    'C': ['', 'baz', None, 'qux', 'quux', '', 'corge', 'grault', None, 'garply']\n",
        "}\n",
        "df = pd.DataFrame(data)\n",
        "\n",
        "# Add more rows with missing or empty values\n",
        "for _ in range(10):\n",
        "    df = df.append(pd.Series([np.nan] * 3, index=df.columns), ignore_index=True)\n",
        "\n",
        "# Specify columns to check for missing or empty values\n",
        "columns_to_check = ['A', 'B', 'C']\n",
        "\n",
        "# Clean the DataFrame\n",
        "cleaned_df = clean_empty_data(df, columns_to_check)\n",
        "\n",
        "# Display the cleaned DataFrame\n",
        "print(cleaned_df)"
      ],
      "metadata": {
        "colab": {
          "base_uri": "https://localhost:8080/"
        },
        "id": "Ch26s5NuZ8GR",
        "outputId": "64fd3d5e-2c6f-485c-efd7-97d0934b705b"
      },
      "execution_count": 66,
      "outputs": [
        {
          "output_type": "stream",
          "name": "stdout",
          "text": [
            "      A      B       C\n",
            "4   5.0    baz    quux\n",
            "7   8.0   quux  grault\n",
            "9  10.0  corge  garply\n"
          ]
        },
        {
          "output_type": "stream",
          "name": "stderr",
          "text": [
            "<ipython-input-66-32c8fbc73592>:11: FutureWarning: The frame.append method is deprecated and will be removed from pandas in a future version. Use pandas.concat instead.\n",
            "  df = df.append(pd.Series([np.nan] * 3, index=df.columns), ignore_index=True)\n",
            "<ipython-input-66-32c8fbc73592>:11: FutureWarning: The frame.append method is deprecated and will be removed from pandas in a future version. Use pandas.concat instead.\n",
            "  df = df.append(pd.Series([np.nan] * 3, index=df.columns), ignore_index=True)\n",
            "<ipython-input-66-32c8fbc73592>:11: FutureWarning: The frame.append method is deprecated and will be removed from pandas in a future version. Use pandas.concat instead.\n",
            "  df = df.append(pd.Series([np.nan] * 3, index=df.columns), ignore_index=True)\n",
            "<ipython-input-66-32c8fbc73592>:11: FutureWarning: The frame.append method is deprecated and will be removed from pandas in a future version. Use pandas.concat instead.\n",
            "  df = df.append(pd.Series([np.nan] * 3, index=df.columns), ignore_index=True)\n",
            "<ipython-input-66-32c8fbc73592>:11: FutureWarning: The frame.append method is deprecated and will be removed from pandas in a future version. Use pandas.concat instead.\n",
            "  df = df.append(pd.Series([np.nan] * 3, index=df.columns), ignore_index=True)\n",
            "<ipython-input-66-32c8fbc73592>:11: FutureWarning: The frame.append method is deprecated and will be removed from pandas in a future version. Use pandas.concat instead.\n",
            "  df = df.append(pd.Series([np.nan] * 3, index=df.columns), ignore_index=True)\n",
            "<ipython-input-66-32c8fbc73592>:11: FutureWarning: The frame.append method is deprecated and will be removed from pandas in a future version. Use pandas.concat instead.\n",
            "  df = df.append(pd.Series([np.nan] * 3, index=df.columns), ignore_index=True)\n",
            "<ipython-input-66-32c8fbc73592>:11: FutureWarning: The frame.append method is deprecated and will be removed from pandas in a future version. Use pandas.concat instead.\n",
            "  df = df.append(pd.Series([np.nan] * 3, index=df.columns), ignore_index=True)\n",
            "<ipython-input-66-32c8fbc73592>:11: FutureWarning: The frame.append method is deprecated and will be removed from pandas in a future version. Use pandas.concat instead.\n",
            "  df = df.append(pd.Series([np.nan] * 3, index=df.columns), ignore_index=True)\n",
            "<ipython-input-66-32c8fbc73592>:11: FutureWarning: The frame.append method is deprecated and will be removed from pandas in a future version. Use pandas.concat instead.\n",
            "  df = df.append(pd.Series([np.nan] * 3, index=df.columns), ignore_index=True)\n"
          ]
        }
      ]
    },
    {
      "cell_type": "code",
      "source": [
        "df.head(10)"
      ],
      "metadata": {
        "id": "LO1800lMnNy5",
        "outputId": "73b26b48-8cf6-4254-e25d-3752d42ed477",
        "colab": {
          "base_uri": "https://localhost:8080/",
          "height": 363
        }
      },
      "execution_count": 67,
      "outputs": [
        {
          "output_type": "execute_result",
          "data": {
            "text/plain": [
              "      A      B       C\n",
              "0   1.0    foo        \n",
              "1   2.0            baz\n",
              "2   NaN    bar    None\n",
              "3   4.0   None     qux\n",
              "4   5.0    baz    quux\n",
              "5   6.0    qux        \n",
              "6   7.0          corge\n",
              "7   8.0   quux  grault\n",
              "8   9.0   None    None\n",
              "9  10.0  corge  garply"
            ],
            "text/html": [
              "\n",
              "  <div id=\"df-f53e3053-2c16-4daf-9257-7c7af0a50c3f\" class=\"colab-df-container\">\n",
              "    <div>\n",
              "<style scoped>\n",
              "    .dataframe tbody tr th:only-of-type {\n",
              "        vertical-align: middle;\n",
              "    }\n",
              "\n",
              "    .dataframe tbody tr th {\n",
              "        vertical-align: top;\n",
              "    }\n",
              "\n",
              "    .dataframe thead th {\n",
              "        text-align: right;\n",
              "    }\n",
              "</style>\n",
              "<table border=\"1\" class=\"dataframe\">\n",
              "  <thead>\n",
              "    <tr style=\"text-align: right;\">\n",
              "      <th></th>\n",
              "      <th>A</th>\n",
              "      <th>B</th>\n",
              "      <th>C</th>\n",
              "    </tr>\n",
              "  </thead>\n",
              "  <tbody>\n",
              "    <tr>\n",
              "      <th>0</th>\n",
              "      <td>1.0</td>\n",
              "      <td>foo</td>\n",
              "      <td></td>\n",
              "    </tr>\n",
              "    <tr>\n",
              "      <th>1</th>\n",
              "      <td>2.0</td>\n",
              "      <td></td>\n",
              "      <td>baz</td>\n",
              "    </tr>\n",
              "    <tr>\n",
              "      <th>2</th>\n",
              "      <td>NaN</td>\n",
              "      <td>bar</td>\n",
              "      <td>None</td>\n",
              "    </tr>\n",
              "    <tr>\n",
              "      <th>3</th>\n",
              "      <td>4.0</td>\n",
              "      <td>None</td>\n",
              "      <td>qux</td>\n",
              "    </tr>\n",
              "    <tr>\n",
              "      <th>4</th>\n",
              "      <td>5.0</td>\n",
              "      <td>baz</td>\n",
              "      <td>quux</td>\n",
              "    </tr>\n",
              "    <tr>\n",
              "      <th>5</th>\n",
              "      <td>6.0</td>\n",
              "      <td>qux</td>\n",
              "      <td></td>\n",
              "    </tr>\n",
              "    <tr>\n",
              "      <th>6</th>\n",
              "      <td>7.0</td>\n",
              "      <td></td>\n",
              "      <td>corge</td>\n",
              "    </tr>\n",
              "    <tr>\n",
              "      <th>7</th>\n",
              "      <td>8.0</td>\n",
              "      <td>quux</td>\n",
              "      <td>grault</td>\n",
              "    </tr>\n",
              "    <tr>\n",
              "      <th>8</th>\n",
              "      <td>9.0</td>\n",
              "      <td>None</td>\n",
              "      <td>None</td>\n",
              "    </tr>\n",
              "    <tr>\n",
              "      <th>9</th>\n",
              "      <td>10.0</td>\n",
              "      <td>corge</td>\n",
              "      <td>garply</td>\n",
              "    </tr>\n",
              "  </tbody>\n",
              "</table>\n",
              "</div>\n",
              "    <div class=\"colab-df-buttons\">\n",
              "\n",
              "  <div class=\"colab-df-container\">\n",
              "    <button class=\"colab-df-convert\" onclick=\"convertToInteractive('df-f53e3053-2c16-4daf-9257-7c7af0a50c3f')\"\n",
              "            title=\"Convert this dataframe to an interactive table.\"\n",
              "            style=\"display:none;\">\n",
              "\n",
              "  <svg xmlns=\"http://www.w3.org/2000/svg\" height=\"24px\" viewBox=\"0 -960 960 960\">\n",
              "    <path d=\"M120-120v-720h720v720H120Zm60-500h600v-160H180v160Zm220 220h160v-160H400v160Zm0 220h160v-160H400v160ZM180-400h160v-160H180v160Zm440 0h160v-160H620v160ZM180-180h160v-160H180v160Zm440 0h160v-160H620v160Z\"/>\n",
              "  </svg>\n",
              "    </button>\n",
              "\n",
              "  <style>\n",
              "    .colab-df-container {\n",
              "      display:flex;\n",
              "      gap: 12px;\n",
              "    }\n",
              "\n",
              "    .colab-df-convert {\n",
              "      background-color: #E8F0FE;\n",
              "      border: none;\n",
              "      border-radius: 50%;\n",
              "      cursor: pointer;\n",
              "      display: none;\n",
              "      fill: #1967D2;\n",
              "      height: 32px;\n",
              "      padding: 0 0 0 0;\n",
              "      width: 32px;\n",
              "    }\n",
              "\n",
              "    .colab-df-convert:hover {\n",
              "      background-color: #E2EBFA;\n",
              "      box-shadow: 0px 1px 2px rgba(60, 64, 67, 0.3), 0px 1px 3px 1px rgba(60, 64, 67, 0.15);\n",
              "      fill: #174EA6;\n",
              "    }\n",
              "\n",
              "    .colab-df-buttons div {\n",
              "      margin-bottom: 4px;\n",
              "    }\n",
              "\n",
              "    [theme=dark] .colab-df-convert {\n",
              "      background-color: #3B4455;\n",
              "      fill: #D2E3FC;\n",
              "    }\n",
              "\n",
              "    [theme=dark] .colab-df-convert:hover {\n",
              "      background-color: #434B5C;\n",
              "      box-shadow: 0px 1px 3px 1px rgba(0, 0, 0, 0.15);\n",
              "      filter: drop-shadow(0px 1px 2px rgba(0, 0, 0, 0.3));\n",
              "      fill: #FFFFFF;\n",
              "    }\n",
              "  </style>\n",
              "\n",
              "    <script>\n",
              "      const buttonEl =\n",
              "        document.querySelector('#df-f53e3053-2c16-4daf-9257-7c7af0a50c3f button.colab-df-convert');\n",
              "      buttonEl.style.display =\n",
              "        google.colab.kernel.accessAllowed ? 'block' : 'none';\n",
              "\n",
              "      async function convertToInteractive(key) {\n",
              "        const element = document.querySelector('#df-f53e3053-2c16-4daf-9257-7c7af0a50c3f');\n",
              "        const dataTable =\n",
              "          await google.colab.kernel.invokeFunction('convertToInteractive',\n",
              "                                                    [key], {});\n",
              "        if (!dataTable) return;\n",
              "\n",
              "        const docLinkHtml = 'Like what you see? Visit the ' +\n",
              "          '<a target=\"_blank\" href=https://colab.research.google.com/notebooks/data_table.ipynb>data table notebook</a>'\n",
              "          + ' to learn more about interactive tables.';\n",
              "        element.innerHTML = '';\n",
              "        dataTable['output_type'] = 'display_data';\n",
              "        await google.colab.output.renderOutput(dataTable, element);\n",
              "        const docLink = document.createElement('div');\n",
              "        docLink.innerHTML = docLinkHtml;\n",
              "        element.appendChild(docLink);\n",
              "      }\n",
              "    </script>\n",
              "  </div>\n",
              "\n",
              "\n",
              "<div id=\"df-5238cf81-2bf4-4511-8d6e-5b1982126673\">\n",
              "  <button class=\"colab-df-quickchart\" onclick=\"quickchart('df-5238cf81-2bf4-4511-8d6e-5b1982126673')\"\n",
              "            title=\"Suggest charts\"\n",
              "            style=\"display:none;\">\n",
              "\n",
              "<svg xmlns=\"http://www.w3.org/2000/svg\" height=\"24px\"viewBox=\"0 0 24 24\"\n",
              "     width=\"24px\">\n",
              "    <g>\n",
              "        <path d=\"M19 3H5c-1.1 0-2 .9-2 2v14c0 1.1.9 2 2 2h14c1.1 0 2-.9 2-2V5c0-1.1-.9-2-2-2zM9 17H7v-7h2v7zm4 0h-2V7h2v10zm4 0h-2v-4h2v4z\"/>\n",
              "    </g>\n",
              "</svg>\n",
              "  </button>\n",
              "\n",
              "<style>\n",
              "  .colab-df-quickchart {\n",
              "      --bg-color: #E8F0FE;\n",
              "      --fill-color: #1967D2;\n",
              "      --hover-bg-color: #E2EBFA;\n",
              "      --hover-fill-color: #174EA6;\n",
              "      --disabled-fill-color: #AAA;\n",
              "      --disabled-bg-color: #DDD;\n",
              "  }\n",
              "\n",
              "  [theme=dark] .colab-df-quickchart {\n",
              "      --bg-color: #3B4455;\n",
              "      --fill-color: #D2E3FC;\n",
              "      --hover-bg-color: #434B5C;\n",
              "      --hover-fill-color: #FFFFFF;\n",
              "      --disabled-bg-color: #3B4455;\n",
              "      --disabled-fill-color: #666;\n",
              "  }\n",
              "\n",
              "  .colab-df-quickchart {\n",
              "    background-color: var(--bg-color);\n",
              "    border: none;\n",
              "    border-radius: 50%;\n",
              "    cursor: pointer;\n",
              "    display: none;\n",
              "    fill: var(--fill-color);\n",
              "    height: 32px;\n",
              "    padding: 0;\n",
              "    width: 32px;\n",
              "  }\n",
              "\n",
              "  .colab-df-quickchart:hover {\n",
              "    background-color: var(--hover-bg-color);\n",
              "    box-shadow: 0 1px 2px rgba(60, 64, 67, 0.3), 0 1px 3px 1px rgba(60, 64, 67, 0.15);\n",
              "    fill: var(--button-hover-fill-color);\n",
              "  }\n",
              "\n",
              "  .colab-df-quickchart-complete:disabled,\n",
              "  .colab-df-quickchart-complete:disabled:hover {\n",
              "    background-color: var(--disabled-bg-color);\n",
              "    fill: var(--disabled-fill-color);\n",
              "    box-shadow: none;\n",
              "  }\n",
              "\n",
              "  .colab-df-spinner {\n",
              "    border: 2px solid var(--fill-color);\n",
              "    border-color: transparent;\n",
              "    border-bottom-color: var(--fill-color);\n",
              "    animation:\n",
              "      spin 1s steps(1) infinite;\n",
              "  }\n",
              "\n",
              "  @keyframes spin {\n",
              "    0% {\n",
              "      border-color: transparent;\n",
              "      border-bottom-color: var(--fill-color);\n",
              "      border-left-color: var(--fill-color);\n",
              "    }\n",
              "    20% {\n",
              "      border-color: transparent;\n",
              "      border-left-color: var(--fill-color);\n",
              "      border-top-color: var(--fill-color);\n",
              "    }\n",
              "    30% {\n",
              "      border-color: transparent;\n",
              "      border-left-color: var(--fill-color);\n",
              "      border-top-color: var(--fill-color);\n",
              "      border-right-color: var(--fill-color);\n",
              "    }\n",
              "    40% {\n",
              "      border-color: transparent;\n",
              "      border-right-color: var(--fill-color);\n",
              "      border-top-color: var(--fill-color);\n",
              "    }\n",
              "    60% {\n",
              "      border-color: transparent;\n",
              "      border-right-color: var(--fill-color);\n",
              "    }\n",
              "    80% {\n",
              "      border-color: transparent;\n",
              "      border-right-color: var(--fill-color);\n",
              "      border-bottom-color: var(--fill-color);\n",
              "    }\n",
              "    90% {\n",
              "      border-color: transparent;\n",
              "      border-bottom-color: var(--fill-color);\n",
              "    }\n",
              "  }\n",
              "</style>\n",
              "\n",
              "  <script>\n",
              "    async function quickchart(key) {\n",
              "      const quickchartButtonEl =\n",
              "        document.querySelector('#' + key + ' button');\n",
              "      quickchartButtonEl.disabled = true;  // To prevent multiple clicks.\n",
              "      quickchartButtonEl.classList.add('colab-df-spinner');\n",
              "      try {\n",
              "        const charts = await google.colab.kernel.invokeFunction(\n",
              "            'suggestCharts', [key], {});\n",
              "      } catch (error) {\n",
              "        console.error('Error during call to suggestCharts:', error);\n",
              "      }\n",
              "      quickchartButtonEl.classList.remove('colab-df-spinner');\n",
              "      quickchartButtonEl.classList.add('colab-df-quickchart-complete');\n",
              "    }\n",
              "    (() => {\n",
              "      let quickchartButtonEl =\n",
              "        document.querySelector('#df-5238cf81-2bf4-4511-8d6e-5b1982126673 button');\n",
              "      quickchartButtonEl.style.display =\n",
              "        google.colab.kernel.accessAllowed ? 'block' : 'none';\n",
              "    })();\n",
              "  </script>\n",
              "</div>\n",
              "    </div>\n",
              "  </div>\n"
            ],
            "application/vnd.google.colaboratory.intrinsic+json": {
              "type": "dataframe",
              "variable_name": "df",
              "summary": "{\n  \"name\": \"df\",\n  \"rows\": 20,\n  \"fields\": [\n    {\n      \"column\": \"A\",\n      \"properties\": {\n        \"dtype\": \"number\",\n        \"std\": 3.0731814857642954,\n        \"min\": 1.0,\n        \"max\": 10.0,\n        \"samples\": [\n          9.0,\n          2.0,\n          7.0\n        ],\n        \"num_unique_values\": 9,\n        \"semantic_type\": \"\",\n        \"description\": \"\"\n      }\n    },\n    {\n      \"column\": \"B\",\n      \"properties\": {\n        \"dtype\": \"category\",\n        \"samples\": [\n          \"foo\",\n          \"\",\n          \"quux\"\n        ],\n        \"num_unique_values\": 7,\n        \"semantic_type\": \"\",\n        \"description\": \"\"\n      }\n    },\n    {\n      \"column\": \"C\",\n      \"properties\": {\n        \"dtype\": \"category\",\n        \"samples\": [\n          \"\",\n          \"baz\",\n          \"grault\"\n        ],\n        \"num_unique_values\": 7,\n        \"semantic_type\": \"\",\n        \"description\": \"\"\n      }\n    }\n  ]\n}"
            }
          },
          "metadata": {},
          "execution_count": 67
        }
      ]
    },
    {
      "cell_type": "code",
      "source": [
        "cleaned_df.head(10)"
      ],
      "metadata": {
        "id": "dcGcJbdKnkKa",
        "outputId": "800e2d64-6a4b-45cd-af36-7769e7562cf5",
        "colab": {
          "base_uri": "https://localhost:8080/",
          "height": 143
        }
      },
      "execution_count": 68,
      "outputs": [
        {
          "output_type": "execute_result",
          "data": {
            "text/plain": [
              "      A      B       C\n",
              "4   5.0    baz    quux\n",
              "7   8.0   quux  grault\n",
              "9  10.0  corge  garply"
            ],
            "text/html": [
              "\n",
              "  <div id=\"df-02546842-3e51-4897-9e91-5999d427c417\" class=\"colab-df-container\">\n",
              "    <div>\n",
              "<style scoped>\n",
              "    .dataframe tbody tr th:only-of-type {\n",
              "        vertical-align: middle;\n",
              "    }\n",
              "\n",
              "    .dataframe tbody tr th {\n",
              "        vertical-align: top;\n",
              "    }\n",
              "\n",
              "    .dataframe thead th {\n",
              "        text-align: right;\n",
              "    }\n",
              "</style>\n",
              "<table border=\"1\" class=\"dataframe\">\n",
              "  <thead>\n",
              "    <tr style=\"text-align: right;\">\n",
              "      <th></th>\n",
              "      <th>A</th>\n",
              "      <th>B</th>\n",
              "      <th>C</th>\n",
              "    </tr>\n",
              "  </thead>\n",
              "  <tbody>\n",
              "    <tr>\n",
              "      <th>4</th>\n",
              "      <td>5.0</td>\n",
              "      <td>baz</td>\n",
              "      <td>quux</td>\n",
              "    </tr>\n",
              "    <tr>\n",
              "      <th>7</th>\n",
              "      <td>8.0</td>\n",
              "      <td>quux</td>\n",
              "      <td>grault</td>\n",
              "    </tr>\n",
              "    <tr>\n",
              "      <th>9</th>\n",
              "      <td>10.0</td>\n",
              "      <td>corge</td>\n",
              "      <td>garply</td>\n",
              "    </tr>\n",
              "  </tbody>\n",
              "</table>\n",
              "</div>\n",
              "    <div class=\"colab-df-buttons\">\n",
              "\n",
              "  <div class=\"colab-df-container\">\n",
              "    <button class=\"colab-df-convert\" onclick=\"convertToInteractive('df-02546842-3e51-4897-9e91-5999d427c417')\"\n",
              "            title=\"Convert this dataframe to an interactive table.\"\n",
              "            style=\"display:none;\">\n",
              "\n",
              "  <svg xmlns=\"http://www.w3.org/2000/svg\" height=\"24px\" viewBox=\"0 -960 960 960\">\n",
              "    <path d=\"M120-120v-720h720v720H120Zm60-500h600v-160H180v160Zm220 220h160v-160H400v160Zm0 220h160v-160H400v160ZM180-400h160v-160H180v160Zm440 0h160v-160H620v160ZM180-180h160v-160H180v160Zm440 0h160v-160H620v160Z\"/>\n",
              "  </svg>\n",
              "    </button>\n",
              "\n",
              "  <style>\n",
              "    .colab-df-container {\n",
              "      display:flex;\n",
              "      gap: 12px;\n",
              "    }\n",
              "\n",
              "    .colab-df-convert {\n",
              "      background-color: #E8F0FE;\n",
              "      border: none;\n",
              "      border-radius: 50%;\n",
              "      cursor: pointer;\n",
              "      display: none;\n",
              "      fill: #1967D2;\n",
              "      height: 32px;\n",
              "      padding: 0 0 0 0;\n",
              "      width: 32px;\n",
              "    }\n",
              "\n",
              "    .colab-df-convert:hover {\n",
              "      background-color: #E2EBFA;\n",
              "      box-shadow: 0px 1px 2px rgba(60, 64, 67, 0.3), 0px 1px 3px 1px rgba(60, 64, 67, 0.15);\n",
              "      fill: #174EA6;\n",
              "    }\n",
              "\n",
              "    .colab-df-buttons div {\n",
              "      margin-bottom: 4px;\n",
              "    }\n",
              "\n",
              "    [theme=dark] .colab-df-convert {\n",
              "      background-color: #3B4455;\n",
              "      fill: #D2E3FC;\n",
              "    }\n",
              "\n",
              "    [theme=dark] .colab-df-convert:hover {\n",
              "      background-color: #434B5C;\n",
              "      box-shadow: 0px 1px 3px 1px rgba(0, 0, 0, 0.15);\n",
              "      filter: drop-shadow(0px 1px 2px rgba(0, 0, 0, 0.3));\n",
              "      fill: #FFFFFF;\n",
              "    }\n",
              "  </style>\n",
              "\n",
              "    <script>\n",
              "      const buttonEl =\n",
              "        document.querySelector('#df-02546842-3e51-4897-9e91-5999d427c417 button.colab-df-convert');\n",
              "      buttonEl.style.display =\n",
              "        google.colab.kernel.accessAllowed ? 'block' : 'none';\n",
              "\n",
              "      async function convertToInteractive(key) {\n",
              "        const element = document.querySelector('#df-02546842-3e51-4897-9e91-5999d427c417');\n",
              "        const dataTable =\n",
              "          await google.colab.kernel.invokeFunction('convertToInteractive',\n",
              "                                                    [key], {});\n",
              "        if (!dataTable) return;\n",
              "\n",
              "        const docLinkHtml = 'Like what you see? Visit the ' +\n",
              "          '<a target=\"_blank\" href=https://colab.research.google.com/notebooks/data_table.ipynb>data table notebook</a>'\n",
              "          + ' to learn more about interactive tables.';\n",
              "        element.innerHTML = '';\n",
              "        dataTable['output_type'] = 'display_data';\n",
              "        await google.colab.output.renderOutput(dataTable, element);\n",
              "        const docLink = document.createElement('div');\n",
              "        docLink.innerHTML = docLinkHtml;\n",
              "        element.appendChild(docLink);\n",
              "      }\n",
              "    </script>\n",
              "  </div>\n",
              "\n",
              "\n",
              "<div id=\"df-ac354f89-fa81-4104-8045-7ad62344c8c5\">\n",
              "  <button class=\"colab-df-quickchart\" onclick=\"quickchart('df-ac354f89-fa81-4104-8045-7ad62344c8c5')\"\n",
              "            title=\"Suggest charts\"\n",
              "            style=\"display:none;\">\n",
              "\n",
              "<svg xmlns=\"http://www.w3.org/2000/svg\" height=\"24px\"viewBox=\"0 0 24 24\"\n",
              "     width=\"24px\">\n",
              "    <g>\n",
              "        <path d=\"M19 3H5c-1.1 0-2 .9-2 2v14c0 1.1.9 2 2 2h14c1.1 0 2-.9 2-2V5c0-1.1-.9-2-2-2zM9 17H7v-7h2v7zm4 0h-2V7h2v10zm4 0h-2v-4h2v4z\"/>\n",
              "    </g>\n",
              "</svg>\n",
              "  </button>\n",
              "\n",
              "<style>\n",
              "  .colab-df-quickchart {\n",
              "      --bg-color: #E8F0FE;\n",
              "      --fill-color: #1967D2;\n",
              "      --hover-bg-color: #E2EBFA;\n",
              "      --hover-fill-color: #174EA6;\n",
              "      --disabled-fill-color: #AAA;\n",
              "      --disabled-bg-color: #DDD;\n",
              "  }\n",
              "\n",
              "  [theme=dark] .colab-df-quickchart {\n",
              "      --bg-color: #3B4455;\n",
              "      --fill-color: #D2E3FC;\n",
              "      --hover-bg-color: #434B5C;\n",
              "      --hover-fill-color: #FFFFFF;\n",
              "      --disabled-bg-color: #3B4455;\n",
              "      --disabled-fill-color: #666;\n",
              "  }\n",
              "\n",
              "  .colab-df-quickchart {\n",
              "    background-color: var(--bg-color);\n",
              "    border: none;\n",
              "    border-radius: 50%;\n",
              "    cursor: pointer;\n",
              "    display: none;\n",
              "    fill: var(--fill-color);\n",
              "    height: 32px;\n",
              "    padding: 0;\n",
              "    width: 32px;\n",
              "  }\n",
              "\n",
              "  .colab-df-quickchart:hover {\n",
              "    background-color: var(--hover-bg-color);\n",
              "    box-shadow: 0 1px 2px rgba(60, 64, 67, 0.3), 0 1px 3px 1px rgba(60, 64, 67, 0.15);\n",
              "    fill: var(--button-hover-fill-color);\n",
              "  }\n",
              "\n",
              "  .colab-df-quickchart-complete:disabled,\n",
              "  .colab-df-quickchart-complete:disabled:hover {\n",
              "    background-color: var(--disabled-bg-color);\n",
              "    fill: var(--disabled-fill-color);\n",
              "    box-shadow: none;\n",
              "  }\n",
              "\n",
              "  .colab-df-spinner {\n",
              "    border: 2px solid var(--fill-color);\n",
              "    border-color: transparent;\n",
              "    border-bottom-color: var(--fill-color);\n",
              "    animation:\n",
              "      spin 1s steps(1) infinite;\n",
              "  }\n",
              "\n",
              "  @keyframes spin {\n",
              "    0% {\n",
              "      border-color: transparent;\n",
              "      border-bottom-color: var(--fill-color);\n",
              "      border-left-color: var(--fill-color);\n",
              "    }\n",
              "    20% {\n",
              "      border-color: transparent;\n",
              "      border-left-color: var(--fill-color);\n",
              "      border-top-color: var(--fill-color);\n",
              "    }\n",
              "    30% {\n",
              "      border-color: transparent;\n",
              "      border-left-color: var(--fill-color);\n",
              "      border-top-color: var(--fill-color);\n",
              "      border-right-color: var(--fill-color);\n",
              "    }\n",
              "    40% {\n",
              "      border-color: transparent;\n",
              "      border-right-color: var(--fill-color);\n",
              "      border-top-color: var(--fill-color);\n",
              "    }\n",
              "    60% {\n",
              "      border-color: transparent;\n",
              "      border-right-color: var(--fill-color);\n",
              "    }\n",
              "    80% {\n",
              "      border-color: transparent;\n",
              "      border-right-color: var(--fill-color);\n",
              "      border-bottom-color: var(--fill-color);\n",
              "    }\n",
              "    90% {\n",
              "      border-color: transparent;\n",
              "      border-bottom-color: var(--fill-color);\n",
              "    }\n",
              "  }\n",
              "</style>\n",
              "\n",
              "  <script>\n",
              "    async function quickchart(key) {\n",
              "      const quickchartButtonEl =\n",
              "        document.querySelector('#' + key + ' button');\n",
              "      quickchartButtonEl.disabled = true;  // To prevent multiple clicks.\n",
              "      quickchartButtonEl.classList.add('colab-df-spinner');\n",
              "      try {\n",
              "        const charts = await google.colab.kernel.invokeFunction(\n",
              "            'suggestCharts', [key], {});\n",
              "      } catch (error) {\n",
              "        console.error('Error during call to suggestCharts:', error);\n",
              "      }\n",
              "      quickchartButtonEl.classList.remove('colab-df-spinner');\n",
              "      quickchartButtonEl.classList.add('colab-df-quickchart-complete');\n",
              "    }\n",
              "    (() => {\n",
              "      let quickchartButtonEl =\n",
              "        document.querySelector('#df-ac354f89-fa81-4104-8045-7ad62344c8c5 button');\n",
              "      quickchartButtonEl.style.display =\n",
              "        google.colab.kernel.accessAllowed ? 'block' : 'none';\n",
              "    })();\n",
              "  </script>\n",
              "</div>\n",
              "    </div>\n",
              "  </div>\n"
            ],
            "application/vnd.google.colaboratory.intrinsic+json": {
              "type": "dataframe",
              "variable_name": "cleaned_df",
              "summary": "{\n  \"name\": \"cleaned_df\",\n  \"rows\": 3,\n  \"fields\": [\n    {\n      \"column\": \"A\",\n      \"properties\": {\n        \"dtype\": \"number\",\n        \"std\": 2.516611478423583,\n        \"min\": 5.0,\n        \"max\": 10.0,\n        \"samples\": [\n          5.0,\n          8.0,\n          10.0\n        ],\n        \"num_unique_values\": 3,\n        \"semantic_type\": \"\",\n        \"description\": \"\"\n      }\n    },\n    {\n      \"column\": \"B\",\n      \"properties\": {\n        \"dtype\": \"string\",\n        \"samples\": [\n          \"baz\",\n          \"quux\",\n          \"corge\"\n        ],\n        \"num_unique_values\": 3,\n        \"semantic_type\": \"\",\n        \"description\": \"\"\n      }\n    },\n    {\n      \"column\": \"C\",\n      \"properties\": {\n        \"dtype\": \"string\",\n        \"samples\": [\n          \"quux\",\n          \"grault\",\n          \"garply\"\n        ],\n        \"num_unique_values\": 3,\n        \"semantic_type\": \"\",\n        \"description\": \"\"\n      }\n    }\n  ]\n}"
            }
          },
          "metadata": {},
          "execution_count": 68
        }
      ]
    },
    {
      "cell_type": "markdown",
      "source": [
        "# Augumentation usage example"
      ],
      "metadata": {
        "id": "TULiN3WzsdL7"
      }
    },
    {
      "cell_type": "markdown",
      "source": [
        "## 1. **augment_data(data, topic_col, text_col) -> DataFrame**:\n",
        "Data augmentation is a technique used to artificially increase the size of a dataset by creating modified versions of existing data samples. The `augment_data` function implements this technique by generating additional samples for underrepresented topics in the input data."
      ],
      "metadata": {
        "id": "odLmt_ALsqeE"
      }
    },
    {
      "cell_type": "code",
      "source": [
        "import pandas as pd\n",
        "import numpy as np\n",
        "import matplotlib.pyplot as plt\n",
        "from collections import Counter\n",
        "\n",
        "# ... (tutaj wstaw kod dla funkcji augment_data)\n",
        "\n",
        "# Przykładowe dane\n",
        "data = {\n",
        "    'Topic': ['A'] * 10 + ['B'] * 5 + ['C'] * 3,\n",
        "    'Text': ['TextA'] * 10 + ['TextB'] * 5 + ['TextC'] * 3\n",
        "}\n",
        "\n",
        "df = pd.DataFrame(data)\n",
        "\n",
        "# Przed augmentacją\n",
        "topic_counts_before = df['Topic'].value_counts()\n",
        "\n",
        "# Wykres kołowy przed augmentacją\n",
        "plt.figure(figsize=(10, 5))\n",
        "plt.subplot(1, 2, 1)\n",
        "plt.title('Before Augmentation')\n",
        "plt.pie(topic_counts_before, labels=topic_counts_before.index, autopct='%1.1f%%', startangle=90)\n",
        "\n",
        "# Po augmentacji\n",
        "augmented_df = augment_data(df, 'Topic', 'Text')\n",
        "topic_counts_after = augmented_df['Topic'].value_counts()\n",
        "\n",
        "# Wykres kołowy po augmentacji\n",
        "plt.subplot(1, 2, 2)\n",
        "plt.title('After Augmentation')\n",
        "plt.pie(topic_counts_after, labels=topic_counts_after.index, autopct='%1.1f%%', startangle=90)\n",
        "\n",
        "plt.show()"
      ],
      "metadata": {
        "id": "mUpdBE_iskJV",
        "outputId": "bdbef953-6a6d-4b56-94f7-85874ad91e74",
        "colab": {
          "base_uri": "https://localhost:8080/",
          "height": 411
        }
      },
      "execution_count": 69,
      "outputs": [
        {
          "output_type": "display_data",
          "data": {
            "text/plain": [
              "<Figure size 1000x500 with 2 Axes>"
            ],
            "image/png": "[encoded data removed]"
          },
          "metadata": {}
        }
      ]
    }
  ]
}